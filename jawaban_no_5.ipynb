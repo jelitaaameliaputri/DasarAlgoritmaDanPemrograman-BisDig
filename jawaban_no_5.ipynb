{
  "nbformat": 4,
  "nbformat_minor": 0,
  "metadata": {
    "colab": {
      "provenance": []
    },
    "kernelspec": {
      "name": "python3",
      "display_name": "Python 3"
    },
    "language_info": {
      "name": "python"
    }
  },
  "cells": [
    {
      "cell_type": "markdown",
      "source": [],
      "metadata": {
        "id": "lh55JcyYR8Ew"
      }
    },
    {
      "cell_type": "code",
      "source": [
        "# Input harga 3 barang dari pengguna\n",
        "harga1 = float(input(\"Masukkan harga barang ke-1: \"))\n",
        "harga2 = float(input(\"Masukkan harga barang ke-2: \"))\n",
        "harga3 = float(input(\"Masukkan harga barang ke-3: \"))\n",
        "\n",
        "# Hitung total pembayaran\n",
        "total = harga1 + harga2 + harga3\n",
        "\n",
        "# Tampilkan total pembayaran\n",
        "print(f\"Total pembayaran adalah: Rp{total:.2f}\")\n"
      ],
      "metadata": {
        "colab": {
          "base_uri": "https://localhost:8080/"
        },
        "id": "x7BD0VXC5Y4v",
        "outputId": "289cb7b7-bc64-466e-899f-bbec53212fb5"
      },
      "execution_count": 1,
      "outputs": [
        {
          "output_type": "stream",
          "name": "stdout",
          "text": [
            "Masukkan harga barang ke-1: 8000000\n",
            "Masukkan harga barang ke-2: 60\n",
            "Masukkan harga barang ke-3: 39\n",
            "Total pembayaran adalah: Rp8000099.00\n"
          ]
        }
      ]
    }
  ]
}